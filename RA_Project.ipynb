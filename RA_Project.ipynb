{
 "cells": [
  {
   "cell_type": "code",
   "execution_count": 1,
   "metadata": {
    "collapsed": true
   },
   "outputs": [],
   "source": [
    "import numpy as np, pandas as pd\n",
    "from sklearn.cluster import k_means\n",
    "import scipy.io\n",
    "from tqdm import tqdm\n",
    "from collections import Counter\n",
    "from scipy.optimize import linear_sum_assignment\n",
    "from scipy.sparse.linalg import svds\n",
    "import itertools\n",
    "from time import time\n",
    "import matplotlib.pyplot as plt\n",
    "import os"
   ]
  },
  {
   "cell_type": "code",
   "execution_count": 2,
   "metadata": {
    "collapsed": true
   },
   "outputs": [],
   "source": [
    "c = 100\n",
    "e = 0.3333333333333"
   ]
  },
  {
   "cell_type": "code",
   "execution_count": 3,
   "metadata": {},
   "outputs": [],
   "source": [
    "def objective(A, X):  \n",
    "    X_norm = X / np.sqrt(np.count_nonzero(X, axis=0))\n",
    "    return np.linalg.norm(A - np.dot(np.dot(X_norm, X_norm.T), A)) ** 2/ np.linalg.norm(A) ** 2\n",
    "\n",
    "def accuracy(X_true, X_pred):\n",
    "    k = X_true.shape[1]\n",
    "    cost_mtx = np.zeros((k, k))\n",
    "    for i, j in itertools.product(range(k), repeat=2):\n",
    "        cost_mtx[i][j] = np.sum(X_true[:, i] * X_pred[:, j])\n",
    "    # Hungarian algorithm to choose best matching\n",
    "    row_ind, col_ind = linear_sum_assignment(-cost_mtx)\n",
    "    \n",
    "    return cost_mtx[row_ind, col_ind].sum() / X_true.shape[0]\n",
    "\n",
    "def random_sampling(X, r):  # Randomized Sampling\n",
    "    p = np.apply_along_axis(lambda x: np.linalg.norm(x) ** 2, axis=1, arr=X) / np.linalg.norm(X) ** 2\n",
    "    sigma = np.zeros((X.shape[0], r))\n",
    "    S = np.zeros((r, r))\n",
    "    to_sample = np.vstack([np.arange(r), np.random.choice(np.arange(p.shape[0]), size=r, p=p)])\n",
    "\n",
    "    def worker(x):\n",
    "        t, j = x[0], x[1]\n",
    "        sigma[j, t] = 1\n",
    "        S[t, t] = 1 / np.sqrt(r * p[j])\n",
    "\n",
    "    np.apply_along_axis(worker, 0, to_sample)\n",
    "    return sigma, S\n",
    "\n",
    "def fast_frob_SVD(A, k, e):  \n",
    "    n = A.shape[1]\n",
    "    r = k + int(k / e + 1)\n",
    "    R = np.random.randn(n, r)\n",
    "    Y = np.dot(A, R)\n",
    "    V = np.linalg.qr(Y)[0]\n",
    "    return svds(np.dot(V.T, A), k, return_singular_vectors='vh')[2].T\n",
    "\n",
    "\n",
    "\n",
    "# Different Randomized Methods:\n",
    "def approximate_SVD(A, k, r): \n",
    "    Z = fast_frob_SVD(A, r, e)\n",
    "    return np.dot(A, Z)\n",
    "\n",
    "\n",
    "def exact_SVD(A, k, r):  \n",
    "    Z = svds(A, r, return_singular_vectors='vh')[2].T    \n",
    "    return np.dot(A, Z)\n",
    "\n",
    "\n",
    "def random_projection(A, k, r):  \n",
    "    n = A.shape[1]\n",
    "    R = np.random.choice([-1., 1.], size=(n, r)) / np.sqrt(r)\n",
    "    return np.dot(A, R)\n",
    "\n",
    "\n",
    "def rsampling_approximate_SVD(A, k, r):  \n",
    "    Z = fast_frob_SVD(A, k, e)\n",
    "    O, S = random_sampling(Z, r)\n",
    "    return np.dot(A, np.dot(O, S))\n",
    "\n",
    "\n",
    "def rsampling_exact_SVD(A, k, r):  \n",
    "    Z = svds(A, k, return_singular_vectors='vh')[2].T\n",
    "    O, S = random_sampling(Z, r)\n",
    "    return np.dot(A, np.dot(O, S))\n",
    "\n",
    "\n",
    "def apply_method(A, k, r, name):\n",
    "    methods = dict(ApproxSVD = approximate_SVD, \n",
    "                   SVD = exact_SVD, \n",
    "                   RP = random_projection, \n",
    "                   SamplApproxSVD = rsampling_approximate_SVD, \n",
    "                   SamplSVD = rsampling_exact_SVD,\n",
    "                   Raw = lambda A, k, r: A)\n",
    "    return methods[name](A, k, r)"
   ]
  },
  {
   "cell_type": "code",
   "execution_count": 4,
   "metadata": {
    "collapsed": true
   },
   "outputs": [],
   "source": [
    "def get_usps():\n",
    "    data = scipy.io.loadmat('usps_all.mat')['data']\n",
    "    data = np.transpose(data, (2, 1, 0)).astype(np.int32)\n",
    "    k = data.shape[0]\n",
    "    samples = data.shape[1]\n",
    "    data = data.reshape((k * samples, data.shape[2]))\n",
    "    ids_true = np.outer(np.ones(samples, dtype=np.int32), np.arange(k)).T.reshape((samples * k))\n",
    "    X_true = np.eye(k)[ids_true]\n",
    "    return data / 255., X_true, k"
   ]
  },
  {
   "cell_type": "code",
   "execution_count": 5,
   "metadata": {
    "collapsed": true
   },
   "outputs": [],
   "source": [
    "def get_synth(dim=2000, k=5, samples=200, side=200.):\n",
    "    centers = np.random.uniform(high=side, size=(k, dim))\n",
    "    data = np.random.normal(centers, size=(samples, k, dim))\n",
    "    data = np.transpose(data, (1, 0, 2)).reshape(samples * k, dim)\n",
    "    ids_true = np.outer(np.ones(samples, dtype=np.int32), np.arange(k)).T.reshape((samples * k))\n",
    "    X_true = np.eye(k)[ids_true]\n",
    "    return data, X_true, k"
   ]
  },
  {
   "cell_type": "code",
   "execution_count": 6,
   "metadata": {
    "collapsed": true
   },
   "outputs": [],
   "source": [
    "def get_coil20():\n",
    "    data = np.zeros((1440, 128*128))\n",
    "    for fname in os.listdir(\"coil-20-proc\"):\n",
    "        l, r = fname.split('__')\n",
    "        cl = int(l[3:]) - 1\n",
    "        i = int(r.split('.')[0])\n",
    "        img = PIL.Image.open(\"coil-20-proc/\" + fname)\n",
    "        data[cl*72 + i] = np.asarray(img).reshape(128*128)\n",
    "    ids_true = np.outer(np.ones(72, dtype=np.int32), np.arange(20)).T.reshape((1440))\n",
    "    X_true = np.eye(20)[ids_true]\n",
    "    return data / 255., X_true, 20"
   ]
  },
  {
   "cell_type": "code",
   "execution_count": 7,
   "metadata": {
    "collapsed": true
   },
   "outputs": [],
   "source": [
    "methods = [\"ApproxSVD\", \"SVD\", \"RP\", \"SamplApproxSVD\", \"SamplSVD\", \"Raw\"]\n",
    "results = {}\n",
    "for method in methods:\n",
    "    results[method] = dict(time=[], objective=[], accuracy=[])"
   ]
  },
  {
   "cell_type": "code",
   "execution_count": 8,
   "metadata": {
    "collapsed": true
   },
   "outputs": [],
   "source": [
    "data, X_true, k = get_usps()"
   ]
  },
  {
   "cell_type": "code",
   "execution_count": 110,
   "metadata": {},
   "outputs": [
    {
     "name": "stderr",
     "output_type": "stream",
     "text": [
      "100%|██████████| 19/19 [09:24<00:00, 29.72s/it]\n",
      "100%|██████████| 19/19 [11:11<00:00, 35.33s/it]\n",
      "100%|██████████| 19/19 [09:16<00:00, 29.31s/it]\n",
      "100%|██████████| 19/19 [07:51<00:00, 24.81s/it]\n",
      "100%|██████████| 19/19 [06:24<00:00, 20.23s/it]\n",
      "  0%|          | 0/19 [00:00<?, ?it/s]"
     ]
    }
   ],
   "source": [
    "for method in methods:\n",
    "    for dim in tqdm(range(5, 100, 5)):\n",
    "        acc_temp = []\n",
    "        obj_temp = []\n",
    "        time_temp = []\n",
    "        for _ in range(5):\n",
    "            start = time()\n",
    "            r_data = apply_method(data, k=k, r=dim, name=method)\n",
    "            pred_centers, ids, inertia = k_means(r_data, n_clusters=k, init='random', n_init=5, max_iter=500)\n",
    "            time_temp.append(time() - start)\n",
    "            X_pred = np.eye(k)[ids]\n",
    "            acc_temp.append(accuracy(X_true, X_pred))\n",
    "            obj_temp.append(objective(data, X_pred))\n",
    "        results[method][\"time\"].append(np.mean(time_temp))\n",
    "        results[method][\"objective\"].append(np.mean(obj_temp))\n",
    "        results[method][\"accuracy\"].append(np.mean(acc_temp))\n",
    "        if method == \"Raw\":\n",
    "            break"
   ]
  },
  {
   "cell_type": "code",
   "execution_count": 279,
   "metadata": {},
   "outputs": [
    {
     "data": {
      "text/plain": [
       "0.4872395443584611"
      ]
     },
     "execution_count": 279,
     "metadata": {},
     "output_type": "execute_result"
    }
   ],
   "source": [
    "objective(data, X_true)"
   ]
  },
  {
   "cell_type": "code",
   "execution_count": 280,
   "metadata": {},
   "outputs": [
    {
     "data": {
      "text/plain": [
       "0.1272250561227217"
      ]
     },
     "execution_count": 280,
     "metadata": {},
     "output_type": "execute_result"
    }
   ],
   "source": [
    "methods = [\"ApproxSVD\", \"SVD\", \"RP\", \"Sampl/ApproxSVD\", \"Sampl/SVD\"]\n",
    "labels = [\"Running Time (seconds)\", \"Normalize objective value\", \"Accuracy\"]"
   ]
  },
  {
   "cell_type": "code",
   "execution_count": 129,
   "metadata": {
    "scrolled": false
   },
   "outputs": [
    {
     "data": {
      "image/png": "[encoded data removed]",
      "text/plain": [
       "<matplotlib.figure.Figure at 0x7f8814fa5ef0>"
      ]
     },
     "metadata": {},
     "output_type": "display_data"
    }
   ],
   "source": [
    "# plt.close()\n",
    "var = \"objective\"\n",
    "plt.figure(figsize=(5, 3.5))\n",
    "plt.plot(np.arange(5, 100, 5), results[\"ApproxSVD\"][var], label=\"ApproxSVD\")\n",
    "plt.plot(np.arange(5, 100, 5), results[\"SVD\"][var], label=\"SVD\")\n",
    "plt.plot(np.arange(5, 100, 5), results[\"RP\"][var], label=\"RP\")\n",
    "plt.plot(np.arange(5, 100, 5), results[\"SamplApproxSVD\"][var], label=\"Sampl/ApproxSVD\")\n",
    "plt.plot(np.arange(5, 100, 5), results[\"SamplSVD\"][var], label=\"Sampl/SVD\")\n",
    "plt.plot(np.arange(5, 100, 5), np.repeat(np.mean(results[\"Raw\"][var]), 19), label=\"kMeans\")\n",
    "plt.legend(loc=\"upper right\")\n",
    "# plt.gca().set_aspect('equal')\n",
    "plt.tight_layout()\n",
    "plt.xlabel(\"# of dimensions (r)\")\n",
    "plt.ylabel(labels[1])\n",
    "plt.title(\"Objective value vs. number of dimensions (r)\")\n",
    "plt.show()\n",
    "# plt.savefig(\"imgs/1_obj.eps\", format='eps', dpi=300., bbox_inches=\"tight\")"
   ]
  }
 ],
 "metadata": {
  "kernelspec": {
   "display_name": "Python 3",
   "language": "python",
   "name": "python3"
  },
  "language_info": {
   "codemirror_mode": {
    "name": "ipython",
    "version": 3
   },
   "file_extension": ".py",
   "mimetype": "text/x-python",
   "name": "python",
   "nbconvert_exporter": "python",
   "pygments_lexer": "ipython3",
   "version": "3.6.1"
  }
 },
 "nbformat": 4,
 "nbformat_minor": 2
}
